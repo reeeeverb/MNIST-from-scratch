{
 "cells": [
  {
   "cell_type": "code",
   "execution_count": 1,
   "id": "09344de3-ca11-41b3-864c-63ac3f356b26",
   "metadata": {},
   "outputs": [],
   "source": [
    "import numpy as np\n",
    "import requests, gzip, os, hashlib\n",
    "# Shortcut for from matplotlib import pyplot as PLT \\/\n",
    "%matplotlib inline"
   ]
  },
  {
   "cell_type": "code",
   "execution_count": 2,
   "id": "d2ad3568-1f9b-4889-9b90-873693549f24",
   "metadata": {},
   "outputs": [],
   "source": [
    "# fetch and decode data\n",
    "path = 'data/'\n",
    "def fetch(url):\n",
    "    fp = os.path.join(path, hashlib.md5(url.encode('utf-8')).hexdigest())\n",
    "    if os.path.isfile(fp):\n",
    "        with open(fp, \"rb\") as f:\n",
    "            data = f.read()\n",
    "    else:\n",
    "        with open(fp, \"wb\") as f:\n",
    "            data = requests.get(url).content\n",
    "            f.write(data)\n",
    "    return np.frombuffer(gzip.decompress(data), dtype=np.uint8).copy()\n",
    "\n",
    "X = fetch(\"http://yann.lecun.com/exdb/mnist/train-images-idx3-ubyte.gz\")[0x10:].reshape((-1, 28, 28))\n",
    "Y = fetch(\"http://yann.lecun.com/exdb/mnist/train-labels-idx1-ubyte.gz\")[8:]\n",
    "X_test = fetch(\"http://yann.lecun.com/exdb/mnist/t10k-images-idx3-ubyte.gz\")[0x10:].reshape((-1, 28*28))\n",
    "Y_test = fetch(\"http://yann.lecun.com/exdb/mnist/t10k-labels-idx1-ubyte.gz\")[8:]"
   ]
  },
  {
   "cell_type": "code",
   "execution_count": 3,
   "id": "f8d96e0e-6335-4dde-85df-9b1048a3dfd7",
   "metadata": {},
   "outputs": [],
   "source": [
    "# Validation Split\n",
    "rand = np.arange(60000)\n",
    "np.random.shuffle(rand)\n",
    "train_no = rand[:50000]\n",
    "\n",
    "val_no = np.setdiff1d(rand,train_no)\n",
    "\n",
    "X_train,X_val=X[train_no,:,:],X[val_no,:,:]\n",
    "Y_train,Y_val=Y[train_no],Y[val_no]"
   ]
  },
  {
   "cell_type": "code",
   "execution_count": 4,
   "id": "85dda953-d381-4167-918d-f2d7dc4a4329",
   "metadata": {},
   "outputs": [],
   "source": [
    "def init(x,y):\n",
    "    layer = np.random.uniform(-1.,1.,size=(x,y))/np.sqrt(x*y)\n",
    "    return layer.astype(np.float32)\n",
    "\n",
    "np.random.seed(42)\n",
    "l1 = init(28*28,128)\n",
    "l2 = init(128,10)"
   ]
  },
  {
   "cell_type": "code",
   "execution_count": 5,
   "id": "58bee2e3-7da6-4881-b175-a6ea65f2aa0d",
   "metadata": {},
   "outputs": [],
   "source": [
    "def sigmoid(x):\n",
    "    return 1/(np.exp(-x)+1)\n",
    "\n",
    "def d_sigmoid(x):\n",
    "    return (np.exp(-x))/((np.exp(-x)+1)**2)"
   ]
  },
  {
   "cell_type": "code",
   "execution_count": 6,
   "id": "9ffe1471-618b-4c1d-a077-bfc81b30ab50",
   "metadata": {},
   "outputs": [],
   "source": [
    "def softmax(x):\n",
    "    exponents=np.exp(x)\n",
    "    return exponents/np.sum(exponents)\n",
    "\n",
    "def d_softmax(x):\n",
    "    exp_element=np.exp(x-x.max())\n",
    "    return exp_element/np.sum(exp_element,axis=0)*(1-exp_element/np.sum(exp_element,axis=0))"
   ]
  },
  {
   "cell_type": "code",
   "execution_count": 7,
   "id": "82c8ee0c-4636-485c-9af1-0853dd0b1bab",
   "metadata": {},
   "outputs": [
    {
     "data": {
      "text/plain": [
       "(array([1.03770332e-053, 3.72007598e-044, 5.09107081e-088, 6.21315959e-049,\n",
       "        6.37586958e-059, 1.00000000e+000, 6.47023493e-026, 1.68891188e-048,\n",
       "        4.78089288e-025, 1.75258947e-101]),\n",
       " 1.0)"
      ]
     },
     "execution_count": 7,
     "metadata": {},
     "output_type": "execute_result"
    }
   ],
   "source": [
    "output_of_layer_2=np.array([12,34,-67,23,0,134,76,24,78,-98])\n",
    "a=softmax(output_of_layer_2)\n",
    "a,sum(a)"
   ]
  },
  {
   "cell_type": "code",
   "execution_count": 8,
   "id": "d2df8f50-6209-4055-bfa2-78b879bd5044",
   "metadata": {},
   "outputs": [
    {
     "data": {
      "text/plain": [
       "(5, 134)"
      ]
     },
     "execution_count": 8,
     "metadata": {},
     "output_type": "execute_result"
    }
   ],
   "source": [
    "x = np.argmax(a) # Returns index of maximum value(most likely solution)\n",
    "x,output_of_layer_2[x]"
   ]
  },
  {
   "cell_type": "code",
   "execution_count": 9,
   "id": "fc7e74e3-43b2-4a38-9f1e-557625dff4a6",
   "metadata": {},
   "outputs": [],
   "source": [
    "# Redefine to prevent overflow\n",
    "def softmax(x):\n",
    "    exp_element=np.exp(x-x.max())\n",
    "    return exp_element/np.sum(exp_element,axis=0)\n",
    "\n",
    "#derivative of softmax\n",
    "def d_softmax(x):\n",
    "    exp_element=np.exp(x-x.max())\n",
    "    return exp_element/np.sum(exp_element,axis=0)*(1-exp_element/np.sum(exp_element,axis=0))"
   ]
  },
  {
   "cell_type": "code",
   "execution_count": 10,
   "id": "85803a21-de74-407e-905d-639cc0ff38af",
   "metadata": {},
   "outputs": [],
   "source": [
    "def forward_backward_pass(x,y):\n",
    "    targets = np.zeros((len(y),10), np.float32)\n",
    "    targets[range(targets.shape[0]),y] = 1\n",
    " \n",
    "    \n",
    "    x_l1=x.dot(l1)\n",
    "    x_sigmoid=sigmoid(x_l1)\n",
    "    x_l2=x_sigmoid.dot(l2)\n",
    "    out=softmax(x_l2)\n",
    "   \n",
    " \n",
    "    error=2*(out-targets)/out.shape[0]*d_softmax(x_l2)\n",
    "    update_l2=x_sigmoid.T@error\n",
    "    \n",
    "    \n",
    "    error=((l2).dot(error.T)).T*d_sigmoid(x_l1)\n",
    "    update_l1=x.T@error\n",
    "\n",
    "    return out,update_l1,update_l2 "
   ]
  }
 ],
 "metadata": {
  "kernelspec": {
   "display_name": "Python 3 (ipykernel)",
   "language": "python",
   "name": "python3"
  },
  "language_info": {
   "codemirror_mode": {
    "name": "ipython",
    "version": 3
   },
   "file_extension": ".py",
   "mimetype": "text/x-python",
   "name": "python",
   "nbconvert_exporter": "python",
   "pygments_lexer": "ipython3",
   "version": "3.9.8"
  }
 },
 "nbformat": 4,
 "nbformat_minor": 5
}
