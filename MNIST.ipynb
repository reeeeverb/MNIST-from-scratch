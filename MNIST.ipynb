{
 "cells": [
  {
   "cell_type": "code",
   "execution_count": 15,
   "id": "09344de3-ca11-41b3-864c-63ac3f356b26",
   "metadata": {},
   "outputs": [],
   "source": [
    "import numpy as np\n",
    "import requests, gzip, os, hashlib\n",
    "# Shortcut for from matplotlib import pyplot as PLT \\/\n",
    "%matplotlib inline"
   ]
  },
  {
   "cell_type": "code",
   "execution_count": 16,
   "id": "d2ad3568-1f9b-4889-9b90-873693549f24",
   "metadata": {},
   "outputs": [],
   "source": [
    "# fetch and decode data\n",
    "path = 'data/'\n",
    "def fetch(url):\n",
    "    fp = os.path.join(path, hashlib.md5(url.encode('utf-8')).hexdigest())\n",
    "    if os.path.isfile(fp):\n",
    "        with open(fp, \"rb\") as f:\n",
    "            data = f.read()\n",
    "    else:\n",
    "        with open(fp, \"wb\") as f:\n",
    "            data = requests.get(url).content\n",
    "            f.write(data)\n",
    "    return np.frombuffer(gzip.decompress(data), dtype=np.uint8).copy()\n",
    "\n",
    "X = fetch(\"http://yann.lecun.com/exdb/mnist/train-images-idx3-ubyte.gz\")[0x10:].reshape((-1, 28, 28))\n",
    "Y = fetch(\"http://yann.lecun.com/exdb/mnist/train-labels-idx1-ubyte.gz\")[8:]\n",
    "X_test = fetch(\"http://yann.lecun.com/exdb/mnist/t10k-images-idx3-ubyte.gz\")[0x10:].reshape((-1, 28*28))\n",
    "Y_test = fetch(\"http://yann.lecun.com/exdb/mnist/t10k-labels-idx1-ubyte.gz\")[8:]"
   ]
  },
  {
   "cell_type": "code",
   "execution_count": 17,
   "id": "f8d96e0e-6335-4dde-85df-9b1048a3dfd7",
   "metadata": {},
   "outputs": [],
   "source": [
    "# Validation Split\n",
    "rand = np.arange(60000)\n",
    "np.random.shuffle(rand)\n",
    "train_no = rand[:50000]\n",
    "\n",
    "val_no = np.setdiff1d(rand,train_no)\n",
    "\n",
    "X_train,X_val=X[train_no,:,:],X[val_no,:,:]\n",
    "Y_train,Y_val=Y[train_no],Y[val_no]"
   ]
  },
  {
   "cell_type": "code",
   "execution_count": 19,
   "id": "85dda953-d381-4167-918d-f2d7dc4a4329",
   "metadata": {},
   "outputs": [],
   "source": [
    "def init(x,y):\n",
    "    layer = np.random.uniform(-1.,1.,size=(x,y))/np.sqrt(x*y)\n",
    "    return layer.astype(np.float32)\n",
    "\n",
    "np.random.seed(42)\n",
    "l1 = init(28*28,128)\n",
    "l2 = init(128,10)"
   ]
  },
  {
   "cell_type": "code",
   "execution_count": 20,
   "id": "58bee2e3-7da6-4881-b175-a6ea65f2aa0d",
   "metadata": {},
   "outputs": [],
   "source": [
    "def sigmoid(x):\n",
    "    return 1/(np.exp(-x)+1)\n",
    "\n",
    "def d_sigmoid(x):\n",
    "    return (np.exp(-x))/((np.exp(-x)+1)**2)"
   ]
  },
  {
   "cell_type": "code",
   "execution_count": 21,
   "id": "9ffe1471-618b-4c1d-a077-bfc81b30ab50",
   "metadata": {},
   "outputs": [],
   "source": [
    "def softmax(x):\n",
    "    exponents=np.exp(x)\n",
    "    return exponents/np.sum(exponents)\n",
    "\n",
    "def d_softmax(x):\n",
    "    exp_element=np.exp(x-x.max())\n",
    "    return exp_element/np.sum(exp_element,axis=0)*(1-exp_element/np.sum(exp_element,axis=0))"
   ]
  },
  {
   "cell_type": "code",
   "execution_count": null,
   "id": "82c8ee0c-4636-485c-9af1-0853dd0b1bab",
   "metadata": {},
   "outputs": [],
   "source": []
  }
 ],
 "metadata": {
  "kernelspec": {
   "display_name": "Python 3 (ipykernel)",
   "language": "python",
   "name": "python3"
  },
  "language_info": {
   "codemirror_mode": {
    "name": "ipython",
    "version": 3
   },
   "file_extension": ".py",
   "mimetype": "text/x-python",
   "name": "python",
   "nbconvert_exporter": "python",
   "pygments_lexer": "ipython3",
   "version": "3.8.10"
  }
 },
 "nbformat": 4,
 "nbformat_minor": 5
}
